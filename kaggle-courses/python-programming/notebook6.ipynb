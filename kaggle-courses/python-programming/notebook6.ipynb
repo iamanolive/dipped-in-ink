{
  "nbformat": 4,
  "nbformat_minor": 0,
  "metadata": {
    "colab": {
      "provenance": [],
      "authorship_tag": "ABX9TyPFn7TYYj0ViCF0EHqx2udt",
      "include_colab_link": true
    },
    "kernelspec": {
      "name": "python3",
      "display_name": "Python 3"
    },
    "language_info": {
      "name": "python"
    }
  },
  "cells": [
    {
      "cell_type": "markdown",
      "metadata": {
        "id": "view-in-github",
        "colab_type": "text"
      },
      "source": [
        "<a href=\"https://colab.research.google.com/github/iamanolive/seven-days-of-AI/blob/main/kaggle-courses/python-programming/notebook6.ipynb\" target=\"_parent\"><img src=\"https://colab.research.google.com/assets/colab-badge.svg\" alt=\"Open In Colab\"/></a>"
      ]
    },
    {
      "cell_type": "code",
      "source": [
        "def is_valid_zip(zip_code):\n",
        "  return len(zip_code) == 5 and zip_code.isdigit()"
      ],
      "metadata": {
        "id": "g6vVbtKpRN2t"
      },
      "execution_count": 6,
      "outputs": []
    },
    {
      "cell_type": "code",
      "source": [
        "def word_search(doc_list, keyword):\n",
        "  indices = []\n",
        "  for i, doc in enumerate(doc_list):\n",
        "    tokens = doc.split()\n",
        "    normalized = [token.rstrip(\".,\").lower() for token in tokens]\n",
        "    if keyword.lower() in normalized:\n",
        "      indices.append(i)\n",
        "    return indices"
      ],
      "metadata": {
        "id": "0UsFDp5qRmkX"
      },
      "execution_count": 11,
      "outputs": []
    },
    {
      "cell_type": "code",
      "source": [
        "def multi_word_search(doc_list, keywords):\n",
        "  result = {}\n",
        "  for keyword in keywords:\n",
        "    result[keyword] = word_search(doc_list, keyword)\n",
        "  return result"
      ],
      "metadata": {
        "id": "BnLrwRANTs_l"
      },
      "execution_count": 12,
      "outputs": []
    }
  ]
}