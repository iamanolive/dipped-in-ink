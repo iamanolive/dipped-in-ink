{
  "nbformat": 4,
  "nbformat_minor": 0,
  "metadata": {
    "colab": {
      "provenance": [],
      "authorship_tag": "ABX9TyORGQSHh4lrdkI8WmMwC4nN",
      "include_colab_link": true
    },
    "kernelspec": {
      "name": "python3",
      "display_name": "Python 3"
    },
    "language_info": {
      "name": "python"
    }
  },
  "cells": [
    {
      "cell_type": "markdown",
      "metadata": {
        "id": "view-in-github",
        "colab_type": "text"
      },
      "source": [
        "<a href=\"https://colab.research.google.com/github/iamanolive/seven-days-of-AI/blob/main/kaggle-courses/python-programming/notebook5.ipynb\" target=\"_parent\"><img src=\"https://colab.research.google.com/assets/colab-badge.svg\" alt=\"Open In Colab\"/></a>"
      ]
    },
    {
      "cell_type": "code",
      "execution_count": 4,
      "metadata": {
        "colab": {
          "base_uri": "https://localhost:8080/"
        },
        "id": "gGVyDBx2tnka",
        "outputId": "fafa0e73-99d6-451c-8320-80773d2a6a43"
      },
      "outputs": [
        {
          "output_type": "execute_result",
          "data": {
            "text/plain": [
              "['VENUS!', 'EARTH!', 'MARS!']"
            ]
          },
          "metadata": {},
          "execution_count": 4
        }
      ],
      "source": [
        "planets = [\"Mercury\", \"Venus\", \"Earth\", \"Mars\", \"Jupiter\", \"Saturn\", \"Uranus\", \"Neptune\"]\n",
        "loud_short_planets = [planet.upper() + '!' for planet in planets if len(planet) < 6]\n",
        "loud_short_planets"
      ]
    },
    {
      "cell_type": "code",
      "source": [
        "def has_lucky_number(nums):\n",
        "  for num in nums:\n",
        "    if num % 7 == 0: return True\n",
        "  return False\n",
        "\n",
        "def has_lucky_number(nums):\n",
        "  return any([num % 7 == 0 for num in nums])"
      ],
      "metadata": {
        "id": "HjTy2EtH1VTZ"
      },
      "execution_count": 5,
      "outputs": []
    },
    {
      "cell_type": "code",
      "source": [
        "def elementwise_greater_than(L, thresh):\n",
        "  result = []\n",
        "  for item in L:\n",
        "    result.append(item > thresh)\n",
        "  return result\n",
        "\n",
        "def elementwise_greater_than(L, thresh):\n",
        "  return [item > thresh for item in L]"
      ],
      "metadata": {
        "id": "E-yM3Spo2QSu"
      },
      "execution_count": 6,
      "outputs": []
    },
    {
      "cell_type": "code",
      "source": [
        "def menu_is_boring(meals):\n",
        "  return any(meals[i] == meals[i + 1] for i in range(len(meals) - 1))\n",
        "\n",
        "def menu_is_boring(meals):\n",
        "  for i in range(len(meals) - 1):\n",
        "    if meals[i] == meals[i + 1]: return True\n",
        "  return False"
      ],
      "metadata": {
        "id": "0_1oDa-e292q"
      },
      "execution_count": 7,
      "outputs": []
    }
  ]
}