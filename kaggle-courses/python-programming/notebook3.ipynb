{
  "nbformat": 4,
  "nbformat_minor": 0,
  "metadata": {
    "colab": {
      "provenance": [],
      "authorship_tag": "ABX9TyNLV2t6Jf50aOoC1D8Cp+Np",
      "include_colab_link": true
    },
    "kernelspec": {
      "name": "python3",
      "display_name": "Python 3"
    },
    "language_info": {
      "name": "python"
    }
  },
  "cells": [
    {
      "cell_type": "markdown",
      "metadata": {
        "id": "view-in-github",
        "colab_type": "text"
      },
      "source": [
        "<a href=\"https://colab.research.google.com/github/iamanolive/seven-days-of-AI/blob/main/kaggle-courses/python-programming/notebook3.ipynb\" target=\"_parent\"><img src=\"https://colab.research.google.com/assets/colab-badge.svg\" alt=\"Open In Colab\"/></a>"
      ]
    },
    {
      "cell_type": "code",
      "execution_count": 6,
      "metadata": {
        "id": "DjNjBNuQIRx0"
      },
      "outputs": [],
      "source": [
        "def sign(num):\n",
        "  if num < 0: return -1\n",
        "  elif num > 0: return 1\n",
        "  else: return 0"
      ]
    },
    {
      "cell_type": "code",
      "source": [
        "def to_smash(total_candies):\n",
        "  if total_candies == 1: print(\"Splitting\", total_candies, \"candy\")\n",
        "  else: print(\"Splitting\", total_candies, \"candies\")\n",
        "  return total_candies % 3"
      ],
      "metadata": {
        "id": "kUCsa5hIJ22j"
      },
      "execution_count": 7,
      "outputs": []
    },
    {
      "cell_type": "code",
      "source": [
        "to_smash(91)\n",
        "to_smash(1)"
      ],
      "metadata": {
        "colab": {
          "base_uri": "https://localhost:8080/"
        },
        "id": "2kWKVLhyKG3N",
        "outputId": "92c3fb16-a4b8-4d01-ec6c-9634205fab83"
      },
      "execution_count": 8,
      "outputs": [
        {
          "output_type": "stream",
          "name": "stdout",
          "text": [
            "Splitting 91 candies\n",
            "Splitting 1 candy\n"
          ]
        },
        {
          "output_type": "execute_result",
          "data": {
            "text/plain": [
              "1"
            ]
          },
          "metadata": {},
          "execution_count": 8
        }
      ]
    },
    {
      "cell_type": "code",
      "source": [
        "# conditional expression\n",
        "total_candies = 1\n",
        "print(\"Splitting\", total_candies, \"candy\" if total_candies == 1 else \"candies\")"
      ],
      "metadata": {
        "colab": {
          "base_uri": "https://localhost:8080/"
        },
        "id": "PfRgOpajKJlW",
        "outputId": "56331a62-bebc-4261-85ac-b4a978f14889"
      },
      "execution_count": 9,
      "outputs": [
        {
          "output_type": "stream",
          "name": "stdout",
          "text": [
            "Splitting 1 candy\n"
          ]
        }
      ]
    },
    {
      "cell_type": "code",
      "source": [
        "def prepared_for_weather(have_umbrella, rain_level, have_hood, is_workday):\n",
        "  return (\n",
        "      have_umbrella or\n",
        "      rain_level < 5 and have_hood or\n",
        "      not (rain_level > 0 and is_workday)\n",
        "  )\n",
        "\n",
        "have_umbrella = False\n",
        "rain_level = 5.0\n",
        "have_hood = True\n",
        "is_workday = False\n",
        "\n",
        "prepared = prepared_for_weather(have_umbrella, rain_level, have_hood, is_workday)\n",
        "print(prepared)"
      ],
      "metadata": {
        "id": "Xrv-r_ymKpN2",
        "colab": {
          "base_uri": "https://localhost:8080/"
        },
        "outputId": "e871eab6-a99d-42e5-d283-d0b09df0b45f"
      },
      "execution_count": 10,
      "outputs": [
        {
          "output_type": "stream",
          "name": "stdout",
          "text": [
            "True\n"
          ]
        }
      ]
    },
    {
      "cell_type": "code",
      "source": [
        "def is_negative(number):\n",
        "  if number < 0: return True\n",
        "  else: return False\n",
        "\n",
        "def concise_is_negative(number):\n",
        "  return number < 0"
      ],
      "metadata": {
        "id": "MAGZz32mjpHP"
      },
      "execution_count": 11,
      "outputs": []
    },
    {
      "cell_type": "code",
      "source": [
        "def onionless(ketchup, mustard, onion):\n",
        "  return not onion\n",
        "\n",
        "def wants_all_toppings(ketchup, mustard, onion):\n",
        "  return ketchup and mustard and onion"
      ],
      "metadata": {
        "id": "bxv9GovAj8kd"
      },
      "execution_count": 12,
      "outputs": []
    },
    {
      "cell_type": "code",
      "source": [
        "def wants_plain_hotdog(ketchup, mustard, onion):\n",
        "  return not (ketchup or mustard or onion)"
      ],
      "metadata": {
        "id": "kKuatD9MkWhv"
      },
      "execution_count": 13,
      "outputs": []
    },
    {
      "cell_type": "code",
      "source": [
        "def exactly_one_sauce(ketchup, mustard, onion):\n",
        "  result = not (ketchup == mustard)\n",
        "  result = (ketchup and not mustard) or (mustard and not ketchup)\n",
        "  return result"
      ],
      "metadata": {
        "id": "BnngoUGCkmPv"
      },
      "execution_count": 15,
      "outputs": []
    },
    {
      "cell_type": "code",
      "source": [
        "def exactly_one_topping(ketchup, mustard, onion):\n",
        "  return (ketchup + mustard + onion == 1)"
      ],
      "metadata": {
        "id": "yRtV9vLslNfI"
      },
      "execution_count": 16,
      "outputs": []
    }
  ]
}