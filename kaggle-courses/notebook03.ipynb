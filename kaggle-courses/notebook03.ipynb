{
  "nbformat": 4,
  "nbformat_minor": 0,
  "metadata": {
    "colab": {
      "provenance": [],
      "authorship_tag": "ABX9TyOu+j1RqjlYxqy49mDa/5j6",
      "include_colab_link": true
    },
    "kernelspec": {
      "name": "python3",
      "display_name": "Python 3"
    },
    "language_info": {
      "name": "python"
    }
  },
  "cells": [
    {
      "cell_type": "markdown",
      "metadata": {
        "id": "view-in-github",
        "colab_type": "text"
      },
      "source": [
        "<a href=\"https://colab.research.google.com/github/iamanolive/seven-days-of-AI/blob/main/kaggle-courses/notebook03.ipynb\" target=\"_parent\"><img src=\"https://colab.research.google.com/assets/colab-badge.svg\" alt=\"Open In Colab\"/></a>"
      ]
    },
    {
      "cell_type": "code",
      "execution_count": 2,
      "metadata": {
        "colab": {
          "base_uri": "https://localhost:8080/"
        },
        "id": "McTOyOmRMpor",
        "outputId": "4a980809-8346-4a5d-e31d-84995601d217"
      },
      "outputs": [
        {
          "output_type": "stream",
          "name": "stdout",
          "text": [
            "1.0\n",
            "<class 'float'>\n"
          ]
        }
      ],
      "source": [
        "y = 1.0\n",
        "print(y); print(type(y));"
      ]
    },
    {
      "cell_type": "code",
      "source": [
        "z = int(y)\n",
        "print(z); print(type(z))"
      ],
      "metadata": {
        "colab": {
          "base_uri": "https://localhost:8080/"
        },
        "id": "pUZGlvBxPpti",
        "outputId": "46bb7246-82f9-4eb0-b1ad-2072fb68eef3"
      },
      "execution_count": 4,
      "outputs": [
        {
          "output_type": "stream",
          "name": "stdout",
          "text": [
            "1\n",
            "<class 'int'>\n"
          ]
        }
      ]
    },
    {
      "cell_type": "code",
      "source": [
        "print(3 * True)\n",
        "print(-3.1 * True)\n",
        "\n",
        "print(type(\"abc\" * False))\n",
        "print(\"abc\" * False)\n",
        "print(len(\"abc\") * False)"
      ],
      "metadata": {
        "colab": {
          "base_uri": "https://localhost:8080/"
        },
        "id": "REPY4QALPx3k",
        "outputId": "bc95a239-7079-43b1-f8db-9047bf0e406a"
      },
      "execution_count": 9,
      "outputs": [
        {
          "output_type": "stream",
          "name": "stdout",
          "text": [
            "3\n",
            "-3.1\n",
            "<class 'str'>\n",
            "\n",
            "0\n"
          ]
        }
      ]
    },
    {
      "cell_type": "code",
      "source": [
        "def get_expected_cost(beds, baths, has_basement):\n",
        "  house = 80000\n",
        "  bedroom_cost = 30000\n",
        "  bathroom_cost = 10000\n",
        "  basement_cost = 40000\n",
        "  total_cost = house + (beds * bedroom_cost) + (baths * bathroom_cost) + (has_basement * basement_cost)\n",
        "  return total_cost"
      ],
      "metadata": {
        "id": "j719ojmpQIFl"
      },
      "execution_count": 14,
      "outputs": []
    },
    {
      "cell_type": "code",
      "source": [
        "print(get_expected_cost(1, 1, False))\n",
        "print(get_expected_cost(2, 1, True))"
      ],
      "metadata": {
        "colab": {
          "base_uri": "https://localhost:8080/"
        },
        "id": "Jar4-PQ7Q6dm",
        "outputId": "1b3d3ce0-1f23-41ed-d7ec-35fd31cdd88f"
      },
      "execution_count": 15,
      "outputs": [
        {
          "output_type": "stream",
          "name": "stdout",
          "text": [
            "120000\n",
            "190000\n"
          ]
        }
      ]
    },
    {
      "cell_type": "code",
      "source": [
        "print(False + False) # 0 + 0 = 0\n",
        "print(True + False) # 1 + 0 = 1\n",
        "print(False + True) # 0 + 1 = 1\n",
        "print(True + True) # 1 + 1 = 2\n",
        "print(False + True + True + True) # 0 + 1 + 1 + 1 = 3"
      ],
      "metadata": {
        "colab": {
          "base_uri": "https://localhost:8080/"
        },
        "id": "Sd_NS6ErRBYd",
        "outputId": "286bc45a-bc5c-4460-fea4-238be2717254"
      },
      "execution_count": 19,
      "outputs": [
        {
          "output_type": "stream",
          "name": "stdout",
          "text": [
            "0\n",
            "1\n",
            "1\n",
            "2\n",
            "3\n"
          ]
        }
      ]
    },
    {
      "cell_type": "code",
      "source": [
        "def cost_of_project(engraving, solid_gold):\n",
        "  gold_plated_base = 50\n",
        "  gold_plated_engraved = 7\n",
        "  gold_plated_cost = gold_plated_base + (len(engraving) * gold_plated_engraved)\n",
        "\n",
        "  solid_gold_base = 100\n",
        "  solid_gold_engraved = 10\n",
        "  solid_gold_cost = solid_gold_base + (len(engraving) * solid_gold_engraved)\n",
        "\n",
        "  cost_total = ((not solid_gold) * gold_plated_cost) + (solid_gold * solid_gold_cost)\n",
        "  return cost_total"
      ],
      "metadata": {
        "id": "cEaU-VedRn4M"
      },
      "execution_count": 21,
      "outputs": []
    },
    {
      "cell_type": "code",
      "source": [
        "project_one = cost_of_project(\"Charlie+Denver\", True)\n",
        "project_two = cost_of_project(\"08/10/2000\", False)\n",
        "print(project_one, project_two, sep = \"\\n\")"
      ],
      "metadata": {
        "colab": {
          "base_uri": "https://localhost:8080/"
        },
        "id": "1X814Q9RS2XN",
        "outputId": "0250ebb5-be63-4973-c79f-c35d2692f250"
      },
      "execution_count": 23,
      "outputs": [
        {
          "output_type": "stream",
          "name": "stdout",
          "text": [
            "240\n",
            "120\n"
          ]
        }
      ]
    }
  ]
}