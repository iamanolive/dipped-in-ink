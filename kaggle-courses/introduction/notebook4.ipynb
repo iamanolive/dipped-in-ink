{
  "nbformat": 4,
  "nbformat_minor": 0,
  "metadata": {
    "colab": {
      "provenance": [],
      "authorship_tag": "ABX9TyM/0qVnpfln7mpWNYu3PVSu",
      "include_colab_link": true
    },
    "kernelspec": {
      "name": "python3",
      "display_name": "Python 3"
    },
    "language_info": {
      "name": "python"
    }
  },
  "cells": [
    {
      "cell_type": "markdown",
      "metadata": {
        "id": "view-in-github",
        "colab_type": "text"
      },
      "source": [
        "<a href=\"https://colab.research.google.com/github/iamanolive/seven-days-of-AI/blob/main/kaggle-courses/notebook04.ipynb\" target=\"_parent\"><img src=\"https://colab.research.google.com/assets/colab-badge.svg\" alt=\"Open In Colab\"/></a>"
      ]
    },
    {
      "cell_type": "code",
      "execution_count": 1,
      "metadata": {
        "id": "OdWzHD1gThnj"
      },
      "outputs": [],
      "source": [
        "def add_three_or_eight(input_value):\n",
        "  if input_value < 10:\n",
        "    input_value = input_value + 3\n",
        "  else:\n",
        "    input_value = input_value + 8\n",
        "  return input_value"
      ]
    },
    {
      "cell_type": "code",
      "source": [
        "def get_grade(score):\n",
        "  if score >= 90: grade = \"A\"\n",
        "  elif score >= 80: grade = \"B\"\n",
        "  elif score >= 70: grade = \"C\"\n",
        "  elif score >= 60: grade = \"D\"\n",
        "  else: grade = \"F\"\n",
        "  return grade"
      ],
      "metadata": {
        "id": "-0MH_dvAVic5"
      },
      "execution_count": 2,
      "outputs": []
    },
    {
      "cell_type": "code",
      "source": [
        "print(get_grade(85))\n",
        "print(get_grade(49))"
      ],
      "metadata": {
        "colab": {
          "base_uri": "https://localhost:8080/"
        },
        "id": "U81RyPT2WDYv",
        "outputId": "d5b6eee3-4b7a-42c9-89d7-9dd0c3035dc5"
      },
      "execution_count": 3,
      "outputs": [
        {
          "output_type": "stream",
          "name": "stdout",
          "text": [
            "B\n",
            "F\n"
          ]
        }
      ]
    },
    {
      "cell_type": "code",
      "source": [
        "def cost_of_project(engraving, solid_gold):\n",
        "  gold_plated_base = 50\n",
        "  gold_plated_engraved = 7\n",
        "  gold_plated_cost = gold_plated_base + (len(engraving) * gold_plated_engraved)\n",
        "\n",
        "  solid_gold_base = 100\n",
        "  solid_gold_engraved = 10\n",
        "  solid_gold_cost = solid_gold_base + (len(engraving) * solid_gold_engraved)\n",
        "\n",
        "  if solid_gold: return solid_gold_cost\n",
        "  else: return gold_plated_cost"
      ],
      "metadata": {
        "id": "U24bU47PWPCH"
      },
      "execution_count": 4,
      "outputs": []
    },
    {
      "cell_type": "code",
      "source": [
        "def get_water_bill(num_gallons):\n",
        "  if num_gallons <= 8000:\n",
        "    price_total = 5 * num_gallons\n",
        "  elif num_gallons <= 22000:\n",
        "    price_total = 6 * num_gallons\n",
        "  elif num_gallons <= 30000:\n",
        "    price_total = 7 * num_gallons\n",
        "  else: price_total = 10 * num_gallons\n",
        "  return price_total / 1000"
      ],
      "metadata": {
        "id": "K1r9vg_eW9X3"
      },
      "execution_count": 6,
      "outputs": []
    },
    {
      "cell_type": "code",
      "source": [
        "def get_phone_bill(gb):\n",
        "  bill_default = 100\n",
        "  if gb > 15: bill_extra = (gb - 15) * 100\n",
        "  else: bill_extra = 0\n",
        "  bill_total = bill_default + bill_extra\n",
        "  return bill_total"
      ],
      "metadata": {
        "id": "z9JliLg7Xqpn"
      },
      "execution_count": 7,
      "outputs": []
    }
  ]
}