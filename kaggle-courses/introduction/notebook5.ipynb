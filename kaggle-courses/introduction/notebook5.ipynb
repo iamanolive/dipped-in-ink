{
  "nbformat": 4,
  "nbformat_minor": 0,
  "metadata": {
    "colab": {
      "provenance": [],
      "authorship_tag": "ABX9TyMXfmCJq3l+2H/UPVxO3vJt",
      "include_colab_link": true
    },
    "kernelspec": {
      "name": "python3",
      "display_name": "Python 3"
    },
    "language_info": {
      "name": "python"
    }
  },
  "cells": [
    {
      "cell_type": "markdown",
      "metadata": {
        "id": "view-in-github",
        "colab_type": "text"
      },
      "source": [
        "<a href=\"https://colab.research.google.com/github/iamanolive/seven-days-of-AI/blob/main/kaggle-courses/introduction/notebook5.ipynb\" target=\"_parent\"><img src=\"https://colab.research.google.com/assets/colab-badge.svg\" alt=\"Open In Colab\"/></a>"
      ]
    },
    {
      "cell_type": "code",
      "execution_count": 1,
      "metadata": {
        "id": "x4PoNAJfaAHY"
      },
      "outputs": [],
      "source": [
        "menu = [\"stewed meat with onions\", \"bean soup\", \"risotto with trout and shrimp\", \"fish soup with cream and onion\", \"gyro\"]\n",
        "menu.remove(\"bean soup\")\n",
        "menu.append(\"roasted beet salad\")"
      ]
    },
    {
      "cell_type": "code",
      "source": [
        "num_customers = [137, 147, 135, 128, 170, 174, 165, 146, 126, 159,\n",
        "                 141, 148, 132, 147, 168, 153, 170, 161, 148, 152,\n",
        "                 141, 151, 131, 149, 164, 163, 143, 143, 166, 171]"
      ],
      "metadata": {
        "id": "1uuiqePhbmn-"
      },
      "execution_count": 4,
      "outputs": []
    },
    {
      "cell_type": "code",
      "source": [
        "avg_first_seven = sum(num_customers[:7]) / 7\n",
        "avg_last_seven = sum(num_customers[-7:]) / 7\n",
        "max_month = max(num_customers)\n",
        "min_month = min(num_customers)"
      ],
      "metadata": {
        "id": "kWTmrTxMb8ec"
      },
      "execution_count": 7,
      "outputs": []
    },
    {
      "cell_type": "code",
      "source": [
        "print(avg_first_seven)\n",
        "print(avg_last_seven)\n",
        "print(max_month, min_month)"
      ],
      "metadata": {
        "colab": {
          "base_uri": "https://localhost:8080/"
        },
        "id": "I5uehO3TcO4G",
        "outputId": "b0ab4510-25a9-4b97-efa8-da9275212c5f"
      },
      "execution_count": 8,
      "outputs": [
        {
          "output_type": "stream",
          "name": "stdout",
          "text": [
            "150.85714285714286\n",
            "157.0\n",
            "174 126\n"
          ]
        }
      ]
    },
    {
      "cell_type": "code",
      "source": [
        "alphabet = \"A.B.C.D.E.F.G.H.I.J.K.L.M.N.O.P.Q.R.S.T.U.V.W.X.Y.Z\"\n",
        "address = \"Mr. H. Potter, The cupboard under the Stairs, 4 Privet Drive, Little Whinging, Surrey\""
      ],
      "metadata": {
        "id": "5Q7U82vhcUVl"
      },
      "execution_count": 9,
      "outputs": []
    },
    {
      "cell_type": "code",
      "source": [
        "letters = alphabet.split(\".\")\n",
        "print(letters)"
      ],
      "metadata": {
        "colab": {
          "base_uri": "https://localhost:8080/"
        },
        "id": "6Ts-GCu3cyil",
        "outputId": "c6d1970e-c192-48f7-d332-7af3d227264e"
      },
      "execution_count": 10,
      "outputs": [
        {
          "output_type": "stream",
          "name": "stdout",
          "text": [
            "['A', 'B', 'C', 'D', 'E', 'F', 'G', 'H', 'I', 'J', 'K', 'L', 'M', 'N', 'O', 'P', 'Q', 'R', 'S', 'T', 'U', 'V', 'W', 'X', 'Y', 'Z']\n"
          ]
        }
      ]
    },
    {
      "cell_type": "code",
      "source": [
        "formatted_address = address.split(\", \")\n",
        "print(formatted_address)"
      ],
      "metadata": {
        "colab": {
          "base_uri": "https://localhost:8080/"
        },
        "id": "Oi4YD1lfc3Ll",
        "outputId": "9462ac06-acf2-44ea-8455-64d4fb7d130a"
      },
      "execution_count": 11,
      "outputs": [
        {
          "output_type": "stream",
          "name": "stdout",
          "text": [
            "['Mr. H. Potter', 'The cupboard under the Stairs', '4 Privet Drive', 'Little Whinging', 'Surrey']\n"
          ]
        }
      ]
    },
    {
      "cell_type": "code",
      "source": [
        "test_ratings = [1, 2, 3, 4, 5]\n",
        "test_liked = [i >= 4 for i in test_ratings]\n",
        "print(test_liked)"
      ],
      "metadata": {
        "colab": {
          "base_uri": "https://localhost:8080/"
        },
        "id": "863q0yG4c-3d",
        "outputId": "580bec4d-78f6-45b7-a77b-9a3f12ae5790"
      },
      "execution_count": 13,
      "outputs": [
        {
          "output_type": "stream",
          "name": "stdout",
          "text": [
            "[False, False, False, True, True]\n"
          ]
        }
      ]
    },
    {
      "cell_type": "code",
      "source": [
        "def percentage_liked(ratings):\n",
        "  list_liked = [ i >= 4 for i in ratings ]\n",
        "  percentage_liked = sum(list_liked) / len(list_liked)\n",
        "  return percentage_liked"
      ],
      "metadata": {
        "id": "KRSopIcVdS_1"
      },
      "execution_count": 17,
      "outputs": []
    },
    {
      "cell_type": "code",
      "source": [
        "def percentage_growth(num_users, yrs_ago):\n",
        "  list_size = len(num_users)\n",
        "  latest_year = num_users[-1]\n",
        "  compare_year = num_users[list_size - 1 - yrs_ago]\n",
        "  growth = (latest_year - compare_year) / compare_year"
      ],
      "metadata": {
        "id": "TmY8EelhdiKt"
      },
      "execution_count": null,
      "outputs": []
    }
  ]
}