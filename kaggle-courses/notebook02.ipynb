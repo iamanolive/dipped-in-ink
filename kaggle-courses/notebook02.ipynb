{
  "nbformat": 4,
  "nbformat_minor": 0,
  "metadata": {
    "colab": {
      "provenance": [],
      "authorship_tag": "ABX9TyNF69vbYsgd+o2w8jED81KW",
      "include_colab_link": true
    },
    "kernelspec": {
      "name": "python3",
      "display_name": "Python 3"
    },
    "language_info": {
      "name": "python"
    }
  },
  "cells": [
    {
      "cell_type": "markdown",
      "metadata": {
        "id": "view-in-github",
        "colab_type": "text"
      },
      "source": [
        "<a href=\"https://colab.research.google.com/github/iamanolive/seven-days-of-AI/blob/main/kaggle-courses/notebook02.ipynb\" target=\"_parent\"><img src=\"https://colab.research.google.com/assets/colab-badge.svg\" alt=\"Open In Colab\"/></a>"
      ]
    },
    {
      "cell_type": "code",
      "execution_count": 1,
      "metadata": {
        "id": "pvMVHRSwGsGc"
      },
      "outputs": [],
      "source": [
        "def get_expected_cost(beds, baths):\n",
        "  house = 80000\n",
        "  cost_per_bed = 30000\n",
        "  cost_per_bath = 10000\n",
        "  total = house + (beds * cost_per_bed) + (baths * cost_per_bath)\n",
        "  return total"
      ]
    },
    {
      "cell_type": "code",
      "source": [
        "option_1 = get_expected_cost(2, 3)\n",
        "option_2 = get_expected_cost(3, 2)\n",
        "option_3 = get_expected_cost(3, 3)\n",
        "option_4 = get_expected_cost(3, 4)\n",
        "\n",
        "print(option_1, option_2, option_3, option_4, sep = \"\\n\")"
      ],
      "metadata": {
        "colab": {
          "base_uri": "https://localhost:8080/"
        },
        "id": "zAMKEixNJ7K5",
        "outputId": "290be5fb-3273-463c-a713-c46deb715e22"
      },
      "execution_count": 2,
      "outputs": [
        {
          "output_type": "stream",
          "name": "stdout",
          "text": [
            "170000\n",
            "190000\n",
            "200000\n",
            "210000\n"
          ]
        }
      ]
    },
    {
      "cell_type": "code",
      "source": [
        "def get_cost(sqft_walls, sqft_ceiling, sqft_per_gallon, cost_per_gallon):\n",
        "  sqft_total = sqft_walls + sqft_ceiling\n",
        "  total_gallons = sqft_total / sqft_per_gallon\n",
        "  cost = total_gallons * cost_per_gallon\n",
        "  return cost"
      ],
      "metadata": {
        "id": "RcKPImTQKVHv"
      },
      "execution_count": 4,
      "outputs": []
    },
    {
      "cell_type": "code",
      "source": [
        "project_cost = get_cost(432, 144, 400, 15)\n",
        "print(project_cost)"
      ],
      "metadata": {
        "colab": {
          "base_uri": "https://localhost:8080/"
        },
        "id": "yt6W_x2wK43o",
        "outputId": "20f358fc-0042-46a1-c461-2711c8762f20"
      },
      "execution_count": 7,
      "outputs": [
        {
          "output_type": "stream",
          "name": "stdout",
          "text": [
            "21.599999999999998\n"
          ]
        }
      ]
    },
    {
      "cell_type": "code",
      "source": [
        "import math\n",
        "\n",
        "def get_actual_cost(sqft_walls, sqft_ceiling, sqft_per_gallon, cost_per_gallon):\n",
        "  sqft_total = sqft_walls + sqft_ceiling\n",
        "  total_gallons = math.ceil(sqft_total / sqft_per_gallon)\n",
        "  cost = total_gallons * cost_per_gallon\n",
        "  return cost"
      ],
      "metadata": {
        "id": "azRQ9085LQOU"
      },
      "execution_count": 12,
      "outputs": []
    },
    {
      "cell_type": "code",
      "source": [
        "print(get_actual_cost(432, 144, 400, 15))\n",
        "print(get_actual_cost(594, 288, 400, 15))"
      ],
      "metadata": {
        "colab": {
          "base_uri": "https://localhost:8080/"
        },
        "id": "isMwrn1aL7Ad",
        "outputId": "97e9b276-1bf8-499f-ecd0-fd6da0899afc"
      },
      "execution_count": 14,
      "outputs": [
        {
          "output_type": "stream",
          "name": "stdout",
          "text": [
            "30\n",
            "45\n"
          ]
        }
      ]
    }
  ]
}